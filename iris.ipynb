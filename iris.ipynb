{
  "nbformat": 4,
  "nbformat_minor": 0,
  "metadata": {
    "colab": {
      "name": "iris.ipynb",
      "provenance": [],
      "collapsed_sections": [],
      "authorship_tag": "ABX9TyPpQb+avRa6vD5PJxLwUTg1",
      "include_colab_link": true
    },
    "kernelspec": {
      "name": "python3",
      "display_name": "Python 3"
    },
    "language_info": {
      "name": "python"
    }
  },
  "cells": [
    {
      "cell_type": "markdown",
      "metadata": {
        "id": "view-in-github",
        "colab_type": "text"
      },
      "source": [
        "<a href=\"https://colab.research.google.com/github/Nagisa1002/iris/blob/main/iris.ipynb\" target=\"_parent\"><img src=\"https://colab.research.google.com/assets/colab-badge.svg\" alt=\"Open In Colab\"/></a>"
      ]
    },
    {
      "cell_type": "code",
      "metadata": {
        "id": "KJJXmynVfBaF"
      },
      "source": [
        "'''\n",
        "ライブラリ読み込み\n",
        "'''\n",
        "import matplotlib.pyplot as plt\n",
        "import numpy as np\n",
        "\n",
        "from sklearn import datasets\n",
        "from keras.utils import np_utils\n",
        "from sklearn.model_selection import train_test_split\n",
        "from keras.models import Sequential\n",
        "from keras.layers import Dense, Activation\n",
        "from tensorflow.keras.optimizers import SGD\n",
        "from sklearn.metrics import confusion_matrix, accuracy_score, f1_score, precision_score\n",
        "from sklearn.metrics import ConfusionMatrixDisplay\n",
        "\n",
        "\n",
        "from keras.callbacks import Callback, EarlyStopping, ReduceLROnPlateau\n",
        "from sklearn import preprocessing\n",
        "from sklearn.model_selection import  KFold, StratifiedKFold"
      ],
      "execution_count": 380,
      "outputs": []
    },
    {
      "cell_type": "code",
      "metadata": {
        "id": "SeX12SbUoNzZ"
      },
      "source": [
        "'''\n",
        "パラメータ設定\n",
        "'''\n",
        "test_size = 0.2\n",
        "epochs=300\n",
        "batch_size=10"
      ],
      "execution_count": 381,
      "outputs": []
    },
    {
      "cell_type": "markdown",
      "metadata": {
        "id": "Qyjy6ZGdjPoP"
      },
      "source": [
        "データセット\n",
        "- 150個のデータ\n",
        "- １データは特徴量を4つ持つ\n",
        "- 3種類の花が格納\n",
        "\n",
        "\n",
        "特徴量\n",
        "- sepal length : ガクの長さ\n",
        "- sepal width\t: ガクの幅\n",
        "- petal length : 花弁の長さ\n",
        "- petal width :\t花弁の幅\n",
        "\n",
        "花の種類\n",
        "- 0 : setosa\n",
        "- 1 : versicolor\n",
        "- 2 : virginica\n",
        "\n"
      ]
    },
    {
      "cell_type": "code",
      "metadata": {
        "id": "wceqZQgwcL7v"
      },
      "source": [
        "def load_data():\n",
        "  '''\n",
        "  データ準備\n",
        "  '''\n",
        "  iris = datasets.load_iris() \n",
        "  X = iris.data # (150, 4)のデータ\n",
        "  y = iris.target #0~2のラベル(150, )\n",
        "\n",
        "  X=preprocessing.scale(X)\n",
        "\n",
        "  label = iris.target_names\n",
        "  return X, y, label\n",
        "\n",
        "def get_data(X,y,train_index, test_index):\n",
        "  '''\n",
        "  データを訓練，テスト，検証に分ける\n",
        "  '''\n",
        "  X_train, y_train = X[train_index], y[train_index]\n",
        "  X_test, y_test = X[test_index], y[test_index]\n",
        "  X_tr, X_val, y_tr, y_val = train_test_split(X_train, y_train, test_size=0.3, random_state=0, shuffle=True, stratify=y_train)  \n",
        "  y_tr = np_utils.to_categorical(y_tr)\n",
        "  y_val = np_utils.to_categorical(y_val)\n",
        "\n",
        "  return X_tr, X_val, y_tr, y_val, X_test, y_test\n"
      ],
      "execution_count": 382,
      "outputs": []
    },
    {
      "cell_type": "code",
      "metadata": {
        "id": "siNjyCPePBDW"
      },
      "source": [
        "def plot_history(model):\n",
        "  '''\n",
        "  学習曲線のプロット\n",
        "  '''\n",
        "  plt.plot(model.history[\"accuracy\"], label=\"acc\")\n",
        "  plt.plot(model.history[\"loss\"], label=\"loss\")\n",
        "  plt.xlabel(\"epoch\")\n",
        "  plt.legend()"
      ],
      "execution_count": 383,
      "outputs": []
    },
    {
      "cell_type": "code",
      "metadata": {
        "id": "TW6utgQngac8"
      },
      "source": [
        "def define_model(num_classes, feature):\n",
        "  '''\n",
        "  モデル作成\n",
        "  '''\n",
        "  model = Sequential()\n",
        "  model.add(Dense(num_classes, input_dim=feature)) #全結合層\n",
        "  model.add(Activation('softmax')) #活性化関数\n",
        "  model.compile(loss='categorical_crossentropy', #誤差関数\n",
        "                optimizer=SGD(learning_rate=0.1), #最適化手法\n",
        "                metrics=['accuracy']\n",
        "                )\n",
        "  return model\n",
        "  \n",
        "def train_model(label, X_train, y_train, X_val, y_val):\n",
        "  '''\n",
        "  トレーニング\n",
        "  '''\n",
        "  model =define_model(len(label), X_train.shape[1])\n",
        "  early_stopping = EarlyStopping(monitor='val_loss', min_delta=0 ,patience=15, verbose=0, mode='auto')\n",
        "  reduce_lr_on_plateau = ReduceLROnPlateau(factor=0.2, patience=5, verbose=0, min_lr=0.000001)\n",
        "  callbacks = [early_stopping, reduce_lr_on_plateau]\n",
        "\n",
        "  history=model.fit(X_train, y_train, \n",
        "            epochs=epochs, \n",
        "            batch_size=batch_size,\n",
        "            verbose=0,\n",
        "            callbacks = callbacks,\n",
        "            validation_data = (X_val, y_val)\n",
        "            )\n",
        "  #plot_history(history) #学習曲線をプロットする\n",
        "  return model"
      ],
      "execution_count": 384,
      "outputs": []
    },
    {
      "cell_type": "code",
      "metadata": {
        "id": "CQYi7f8uNgn3"
      },
      "source": [
        "def predict(X, y, score_dict, y_dict, model):\n",
        "  '''\n",
        "  学習済みモデルでテストデータを分類し， 結果を出す\n",
        "  '''\n",
        "  y_dict['y_true'].append(y)\n",
        "  ##予測\n",
        "  y_pred = model.predict(X)\n",
        "  y_pred = y_pred.argmax(axis=1)\n",
        "  y_dict['y_pred'].append(y_pred)\n",
        "  \n",
        "\n",
        "  ##結果の表示\n",
        "  score_dict['acc'].append(accuracy_score(y, y_pred))\n",
        "  score_dict['f1'].append(f1_score(y, y_pred, average='macro'))\n",
        "  score_dict['class_f1'].append(f1_score(y, y_pred, average=None))\n",
        "  score_dict['class_precision'].append(precision_score(y, y_pred, average=None))\n",
        "\n",
        "  return y_dict, score_dict"
      ],
      "execution_count": 385,
      "outputs": []
    },
    {
      "cell_type": "code",
      "metadata": {
        "id": "7tbAVg7x0ctn"
      },
      "source": [
        "def result(score_dict, y_dict, label):\n",
        "  '''\n",
        "  結果検証の表示\n",
        "  '''\n",
        "  print('結果')\n",
        "  for i in range(5):\n",
        "    print(i,'回目:')\n",
        "    print('accuracy : ', score_dict['acc'][i])\n",
        "    print('f1 : ', score_dict['f1'][i])\n",
        "    print('class_f1 : ', score_dict['class_f1'][i])\n",
        "    print('class_precision : ', score_dict['class_precision'][i])\n",
        "    print('')\n",
        "\n",
        "  print('全体結果')\n",
        "  y, y_pred=np.array(y_dict['y_true']).ravel(), np.array(y_dict['y_pred']).ravel()\n",
        "  acc = accuracy_score(y, y_pred)\n",
        "  macro_f1 = f1_score(y, y_pred, average='macro')\n",
        "  class_f1 = f1_score(y, y_pred, average=None)\n",
        "  class_precision = precision_score(y, y_pred, average=None)\n",
        "  print('accuracy : ', acc)\n",
        "  print('f1 : ', macro_f1)\n",
        "  print('class_f1 : ', class_f1)\n",
        "  print('class_precision : ', class_precision)\n",
        "\n",
        "  cm = confusion_matrix(y, y_pred)\n",
        "  pcm = ConfusionMatrixDisplay(cm, display_labels=label)\n",
        "  pcm.plot(cmap=plt.cm.Blues)\n",
        "\n",
        "  return"
      ],
      "execution_count": 386,
      "outputs": []
    },
    {
      "cell_type": "code",
      "metadata": {
        "colab": {
          "base_uri": "https://localhost:8080/",
          "height": 891
        },
        "id": "Ie4n8lNhMrXi",
        "outputId": "1cf9bdd8-e058-4eb7-9ce2-13c23e1b43a3"
      },
      "source": [
        "def main():  \n",
        "  score_dict ={'acc':[], 'f1':[], 'class_f1':[], 'class_precision':[]}\n",
        "  y_dict = {'y_true':[], 'y_pred':[]}\n",
        "  X, y, label = load_data()\n",
        "  kf = StratifiedKFold(n_splits=5, shuffle=True, random_state=0)\n",
        "  for train_index, test_index in kf.split(X,y): \n",
        "    X_tr, X_val, y_tr, y_val, X_test, y_test =get_data(X, y, train_index, test_index)\n",
        "    model = train_model(label, X_tr, y_tr, X_val, y_val)\n",
        "    y_dict, score_dict=predict(X_test, y_test, score_dict, y_dict, model)\n",
        "  result(score_dict ,y_dict, label)\n",
        "\n",
        "if __name__ == \"__main__\":\n",
        "    main()"
      ],
      "execution_count": 387,
      "outputs": [
        {
          "output_type": "stream",
          "name": "stdout",
          "text": [
            "結果\n",
            "0 回目:\n",
            "accuracy :  0.9666666666666667\n",
            "f1 :  0.9665831244778613\n",
            "class_f1 :  [1.         0.95238095 0.94736842]\n",
            "class_precision :  [1.         0.90909091 1.        ]\n",
            "\n",
            "1 回目:\n",
            "accuracy :  0.9666666666666667\n",
            "f1 :  0.9665831244778613\n",
            "class_f1 :  [1.         0.94736842 0.95238095]\n",
            "class_precision :  [1.         1.         0.90909091]\n",
            "\n",
            "2 回目:\n",
            "accuracy :  0.9333333333333333\n",
            "f1 :  0.933249791144528\n",
            "class_f1 :  [0.94736842 0.9        0.95238095]\n",
            "class_precision :  [1.         0.9        0.90909091]\n",
            "\n",
            "3 回目:\n",
            "accuracy :  0.9666666666666667\n",
            "f1 :  0.9665831244778613\n",
            "class_f1 :  [1.         0.95238095 0.94736842]\n",
            "class_precision :  [1.         0.90909091 1.        ]\n",
            "\n",
            "4 回目:\n",
            "accuracy :  0.9333333333333333\n",
            "f1 :  0.9326599326599326\n",
            "class_f1 :  [1.         0.90909091 0.88888889]\n",
            "class_precision :  [1.         0.83333333 1.        ]\n",
            "\n",
            "全体結果\n",
            "accuracy :  0.9533333333333334\n",
            "f1 :  0.9535711116848428\n",
            "class_f1 :  [0.98989899 0.93203883 0.93877551]\n",
            "class_precision :  [1.         0.90566038 0.95833333]\n"
          ]
        },
        {
          "output_type": "display_data",
          "data": {
            "image/png": "[encoded data removed]",
            "text/plain": [
              "<Figure size 432x288 with 2 Axes>"
            ]
          },
          "metadata": {
            "needs_background": "light"
          }
        }
      ]
    }
  ]
}